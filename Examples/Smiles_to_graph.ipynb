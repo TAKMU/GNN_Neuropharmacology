{
 "cells": [
  {
   "cell_type": "code",
   "execution_count": 1,
   "metadata": {},
   "outputs": [],
   "source": [
    "\n",
    "# Pytorch and Pytorch Geometric\n",
    "from torch_geometric.data import Data\n",
    "from torch_geometric.utils import from_smiles\n",
    "#Clonazepam \n",
    "#C1C(=O)NC2=C(C=C(C=C2)[N+](=O)[O-])C(=N1)C3=CC=CC=C3Cl"
   ]
  },
  {
   "cell_type": "code",
   "execution_count": 2,
   "metadata": {},
   "outputs": [
    {
     "name": "stdout",
     "output_type": "stream",
     "text": [
      "Data(x=[22, 9], edge_index=[2, 48], edge_attr=[48, 3], smiles='C1C(=O)NC2=C(C=C(C=C2)[N+](=O)[O-])C(=N1)C3=CC=CC=C3Cl')\n",
      "tensor([[ 6,  0,  4,  5,  2,  0,  4,  0,  1],\n",
      "        [ 6,  0,  3,  5,  0,  0,  3,  0,  1],\n",
      "        [ 8,  0,  1,  5,  0,  0,  3,  0,  0],\n",
      "        [ 7,  0,  3,  5,  1,  0,  3,  0,  1],\n",
      "        [ 6,  0,  3,  5,  0,  0,  3,  1,  1],\n",
      "        [ 6,  0,  3,  5,  0,  0,  3,  1,  1],\n",
      "        [ 6,  0,  3,  5,  1,  0,  3,  1,  1],\n",
      "        [ 6,  0,  3,  5,  0,  0,  3,  1,  1],\n",
      "        [ 6,  0,  3,  5,  1,  0,  3,  1,  1],\n",
      "        [ 6,  0,  3,  5,  1,  0,  3,  1,  1],\n",
      "        [ 7,  0,  3,  6,  0,  0,  3,  0,  0],\n",
      "        [ 8,  0,  1,  5,  0,  0,  3,  0,  0],\n",
      "        [ 8,  0,  1,  4,  0,  0,  3,  0,  0],\n",
      "        [ 6,  0,  3,  5,  0,  0,  3,  0,  1],\n",
      "        [ 7,  0,  2,  5,  0,  0,  3,  0,  1],\n",
      "        [ 6,  0,  3,  5,  0,  0,  3,  1,  1],\n",
      "        [ 6,  0,  3,  5,  1,  0,  3,  1,  1],\n",
      "        [ 6,  0,  3,  5,  1,  0,  3,  1,  1],\n",
      "        [ 6,  0,  3,  5,  1,  0,  3,  1,  1],\n",
      "        [ 6,  0,  3,  5,  1,  0,  3,  1,  1],\n",
      "        [ 6,  0,  3,  5,  0,  0,  3,  1,  1],\n",
      "        [17,  0,  1,  5,  0,  0,  4,  0,  0]])\n"
     ]
    }
   ],
   "source": [
    "\n",
    "x_smiles= \"C1C(=O)NC2=C(C=C(C=C2)[N+](=O)[O-])C(=N1)C3=CC=CC=C3Cl\"\n",
    "y =[1]\n",
    "x_graph= from_smiles(x_smiles)\n",
    "print(x_graph)\n",
    "print(x_graph.x)\n"
   ]
  },
  {
   "cell_type": "markdown",
   "metadata": {},
   "source": [
    "Pytorch geometric has a utility that converts from <b>smiles</b> to <b>data (pyg)</b></br> \n",
    "The documentation of this module (code), is located in this <a href=\"https://pytorch-geometric.readthedocs.io/en/latest/_modules/torch_geometric/utils/smiles.html\">link</a></br>\n",
    "It uses rdkit library to function. \n",
    "The features of nodes are the following: \n",
    "<ol>\n",
    "<li>Atomic number</li>\n",
    "<li>Chirality (the number represent the following):\n",
    "    <ol start=\"0\">\n",
    "        <li>CHI_UNSPECIFIED\n",
    "        <li>CHI_TETRAHEDRAL_CW\n",
    "        <li>CHI_TETRAHEDRAL_CCW\n",
    "        <li>CHI_OTHER\n",
    "        <li>CHI_TETRAHEDRAL\n",
    "        <li>CHI_ALLENE\n",
    "        <li>CHI_SQUAREPLANAR\n",
    "        <li>CHI_TRIGONALBIPYRAMIDAL\n",
    "        <li>CHI_OCTAHEDRAL\n",
    "    </ol>\n",
    "<li>degree(number of bonded neighbors in the graph)\n",
    "<li>formal_charge\n",
    "<li>num_hs (total number of Hs -implicit and explicit- that this Atom is bound to)\n",
    "<li>num_radical_electrons\n",
    "<li>hybridization\n",
    "    <ol start=\"0\">\n",
    "        <li>UNSPECIFIED\n",
    "        <li>S\n",
    "        <li>SP\n",
    "        <li>SP2\n",
    "        <li>SP3\n",
    "        <li>SP3D\n",
    "        <li>SP3D2\n",
    "        <li>OTHER\n",
    "    </ol>\n",
    "<li>is_aromatic (bool)\n",
    "<li>is_in_ring (bool)\n",
    "</ol>\n",
    "\n",
    "\n",
    "If necessary, we can modify the code and add multiple properties that are incorporated in the RDKit library (considering that we label types of properties in numbers). "
   ]
  }
 ],
 "metadata": {
  "kernelspec": {
   "display_name": "gnn_project_1",
   "language": "python",
   "name": "python3"
  },
  "language_info": {
   "codemirror_mode": {
    "name": "ipython",
    "version": 3
   },
   "file_extension": ".py",
   "mimetype": "text/x-python",
   "name": "python",
   "nbconvert_exporter": "python",
   "pygments_lexer": "ipython3",
   "version": "3.11.7"
  }
 },
 "nbformat": 4,
 "nbformat_minor": 2
}
